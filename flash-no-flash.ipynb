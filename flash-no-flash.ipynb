{
  "nbformat": 4,
  "nbformat_minor": 0,
  "metadata": {
    "kernelspec": {
      "display_name": "Python 3",
      "language": "python",
      "name": "python3"
    },
    "language_info": {
      "codemirror_mode": {
        "name": "ipython",
        "version": 3
      },
      "file_extension": ".py",
      "mimetype": "text/x-python",
      "name": "python",
      "nbconvert_exporter": "python",
      "pygments_lexer": "ipython3",
      "version": "3.6.9"
    },
    "colab": {
      "name": "flash-no-flash.ipynb",
      "provenance": []
    }
  },
  "cells": [
    {
      "cell_type": "markdown",
      "metadata": {
        "id": "wddnlZQJkr0O",
        "colab_type": "text"
      },
      "source": [
        "Code for **\"Flash/No Flash\"** figure. "
      ]
    },
    {
      "cell_type": "code",
      "metadata": {
        "id": "Ym5onnwxkr0Q",
        "colab_type": "code",
        "colab": {}
      },
      "source": [
        "\"\"\"\n",
        "*Uncomment if running on colab* \n",
        "Set Runtime -> Change runtime type -> Under Hardware Accelerator select GPU in Google Colab \n",
        "\"\"\"\n",
        "!git clone https://github.com/DmitryUlyanov/deep-image-prior\n",
        "!mv deep-image-prior/* ./"
      ],
      "execution_count": 0,
      "outputs": []
    },
    {
      "cell_type": "markdown",
      "metadata": {
        "id": "0EDhRfHbkr0V",
        "colab_type": "text"
      },
      "source": [
        "# Import libs"
      ]
    },
    {
      "cell_type": "code",
      "metadata": {
        "id": "sfztQ0EUkr0W",
        "colab_type": "code",
        "colab": {}
      },
      "source": [
        "from __future__ import print_function\n",
        "import matplotlib.pyplot as plt\n",
        "%matplotlib inline\n",
        "\n",
        "import os\n",
        "#os.environ['CUDA_VISIBLE_DEVICES'] = '3'\n",
        "\n",
        "import numpy as np\n",
        "from models import *\n",
        "\n",
        "import torch\n",
        "import torch.optim\n",
        "\n",
        "from utils.denoising_utils import *\n",
        "from utils.sr_utils import load_LR_HR_imgs_sr\n",
        "torch.backends.cudnn.enabled = True\n",
        "torch.backends.cudnn.benchmark =True\n",
        "dtype = torch.cuda.FloatTensor\n",
        "\n",
        "imsize =-1\n",
        "PLOT = True"
      ],
      "execution_count": 0,
      "outputs": []
    },
    {
      "cell_type": "markdown",
      "metadata": {
        "id": "EVxydmoikr0a",
        "colab_type": "text"
      },
      "source": [
        "# Load image"
      ]
    },
    {
      "cell_type": "code",
      "metadata": {
        "id": "wPZho0q4kr0b",
        "colab_type": "code",
        "colab": {}
      },
      "source": [
        "imgs = load_LR_HR_imgs_sr('data/flash_no_flash/cave01_00_flash.jpg', -1, 1, enforse_div32='CROP')\n",
        "img_flash = load_LR_HR_imgs_sr('data/flash_no_flash/cave01_00_flash.jpg', -1, 1, enforse_div32='CROP')['HR_pil']\n",
        "img_flash_np = pil_to_np(img_flash)\n",
        "\n",
        "img_noflash = load_LR_HR_imgs_sr('data/flash_no_flash/cave01_01_noflash.jpg', -1, 1, enforse_div32='CROP')['HR_pil']\n",
        "img_noflash_np = pil_to_np(img_noflash)\n",
        "\n",
        "g = plot_image_grid([img_flash_np, img_noflash_np],3,12)"
      ],
      "execution_count": 0,
      "outputs": []
    },
    {
      "cell_type": "markdown",
      "metadata": {
        "id": "rMqznTFUkr0g",
        "colab_type": "text"
      },
      "source": [
        "# Setup"
      ]
    },
    {
      "cell_type": "code",
      "metadata": {
        "id": "Sgl-PSegkr0h",
        "colab_type": "code",
        "colab": {}
      },
      "source": [
        "pad = 'reflection'\n",
        "OPT_OVER = 'net'\n",
        "\n",
        "num_iter = 601\n",
        "LR = 0.1 \n",
        "OPTIMIZER = 'adam'\n",
        "reg_noise_std = 0.0\n",
        "show_every = 50\n",
        "figsize = 6\n",
        "\n",
        "# We will use flash image as input\n",
        "input_depth = 3\n",
        "net_input =np_to_torch(img_flash_np).type(dtype)"
      ],
      "execution_count": 0,
      "outputs": []
    },
    {
      "cell_type": "code",
      "metadata": {
        "id": "94DNbMcakr0n",
        "colab_type": "code",
        "colab": {}
      },
      "source": [
        "net = skip(input_depth, 3, num_channels_down = [128, 128, 128, 128, 128], \n",
        "                        num_channels_up   = [128, 128, 128, 128, 128],\n",
        "                        num_channels_skip = [4, 4, 4, 4, 4], \n",
        "                        upsample_mode=['nearest', 'nearest', 'bilinear', 'bilinear', 'bilinear'], \n",
        "                        need_sigmoid=True, need_bias=True, pad=pad).type(dtype)\n",
        "\n",
        "mse = torch.nn.MSELoss().type(dtype)\n",
        "\n",
        "img_flash_var = np_to_torch(img_flash_np).type(dtype)\n",
        "img_noflash_var = np_to_torch(img_noflash_np).type(dtype)"
      ],
      "execution_count": 0,
      "outputs": []
    },
    {
      "cell_type": "markdown",
      "metadata": {
        "id": "itiIrOx5kr0r",
        "colab_type": "text"
      },
      "source": [
        "# Optimize"
      ]
    },
    {
      "cell_type": "code",
      "metadata": {
        "scrolled": false,
        "id": "FRgoDxU0kr0s",
        "colab_type": "code",
        "colab": {}
      },
      "source": [
        "net_input_saved = net_input.detach().clone()\n",
        "noise = net_input.detach().clone()\n",
        "\n",
        "\n",
        "i = 0\n",
        "def closure():\n",
        "    \n",
        "    global i, net_input\n",
        "    \n",
        "    if reg_noise_std > 0:\n",
        "        net_input = net_input_saved + (noise.normal_() * reg_noise_std)\n",
        "    \n",
        "    out = net(net_input)\n",
        "   \n",
        "    total_loss = mse(out, img_noflash_var)\n",
        "    total_loss.backward()\n",
        "        \n",
        "    print ('Iteration %05d    Loss %f' % (i, total_loss.item()), '\\r', end='')\n",
        "    if  PLOT and i % show_every == 0:\n",
        "        out_np = torch_to_np(out)\n",
        "        plot_image_grid([np.clip(out_np, 0, 1)], factor=figsize, nrow=1)\n",
        "        \n",
        "    i += 1\n",
        "\n",
        "    return total_loss\n",
        "\n",
        "p = get_params(OPT_OVER, net, net_input)\n",
        "optimize(OPTIMIZER, p, closure, LR, num_iter)"
      ],
      "execution_count": 0,
      "outputs": []
    },
    {
      "cell_type": "markdown",
      "metadata": {
        "id": "TswibHxikr0z",
        "colab_type": "text"
      },
      "source": [
        "Sometimes the process stucks at reddish image, just run the code from the top one more time. "
      ]
    },
    {
      "cell_type": "code",
      "metadata": {
        "id": "k6eT17k6kr00",
        "colab_type": "code",
        "colab": {}
      },
      "source": [
        "out_np = torch_to_np(net(net_input))\n",
        "q = plot_image_grid([np.clip(out_np, 0, 1), img_noflash_np], factor=13);"
      ],
      "execution_count": 0,
      "outputs": []
    }
  ]
}