{
  "nbformat": 4,
  "nbformat_minor": 0,
  "metadata": {
    "kernelspec": {
      "display_name": "Python 3",
      "language": "python",
      "name": "python3"
    },
    "language_info": {
      "codemirror_mode": {
        "name": "ipython",
        "version": 3
      },
      "file_extension": ".py",
      "mimetype": "text/x-python",
      "name": "python",
      "nbconvert_exporter": "python",
      "pygments_lexer": "ipython3",
      "version": "3.6.9"
    },
    "colab": {
      "name": "Copy of flash-no-flash.ipynb",
      "provenance": [],
      "include_colab_link": true
    },
    "accelerator": "GPU"
  },
  "cells": [
    {
      "cell_type": "markdown",
      "metadata": {
        "id": "view-in-github",
        "colab_type": "text"
      },
      "source": [
        "<a href=\"https://colab.research.google.com/github/ritusingla/deep-image-prior/blob/master/Copy_of_flash_no_flash.ipynb\" target=\"_parent\"><img src=\"https://colab.research.google.com/assets/colab-badge.svg\" alt=\"Open In Colab\"/></a>"
      ]
    },
    {
      "cell_type": "markdown",
      "metadata": {
        "id": "Xf1C2ul6OTGx",
        "colab_type": "text"
      },
      "source": [
        "Code for **\"Flash/No Flash\"** figure. "
      ]
    },
    {
      "cell_type": "code",
      "metadata": {
        "id": "6n7y9DDhOTG0",
        "colab_type": "code",
        "outputId": "9d31ac05-64f7-4cc9-af16-2252449b909d",
        "colab": {
          "base_uri": "https://localhost:8080/",
          "height": 51
        }
      },
      "source": [
        "\"\"\"\n",
        "*Uncomment if running on colab* \n",
        "Set Runtime -> Change runtime type -> Under Hardware Accelerator select GPU in Google Colab \n",
        "\"\"\"\n",
        "!git clone https://github.com/ritusingla/deep-image-prior\n",
        "!mv deep-image-prior/* ./"
      ],
      "execution_count": 8,
      "outputs": [
        {
          "output_type": "stream",
          "text": [
            "fatal: destination path 'deep-image-prior' already exists and is not an empty directory.\n",
            "mv: cannot stat 'deep-image-prior/*': No such file or directory\n"
          ],
          "name": "stdout"
        }
      ]
    },
    {
      "cell_type": "markdown",
      "metadata": {
        "id": "7MwraRymOTG7",
        "colab_type": "text"
      },
      "source": [
        "# Import libs"
      ]
    },
    {
      "cell_type": "code",
      "metadata": {
        "id": "6u-mB5k3OTG_",
        "colab_type": "code",
        "colab": {}
      },
      "source": [
        "from __future__ import print_function\n",
        "import matplotlib.pyplot as plt\n",
        "%matplotlib inline\n",
        "\n",
        "import os\n",
        "#os.environ['CUDA_VISIBLE_DEVICES'] = '3'\n",
        "\n",
        "import numpy as np\n",
        "from models import *\n",
        "\n",
        "import torch\n",
        "import torch.optim\n",
        "\n",
        "from utils.denoising_utils import *\n",
        "from utils.sr_utils import load_LR_HR_imgs_sr\n",
        "torch.backends.cudnn.enabled = True\n",
        "torch.backends.cudnn.benchmark =True\n",
        "dtype = torch.cuda.FloatTensor\n",
        "\n",
        "imsize =-1\n",
        "PLOT = True"
      ],
      "execution_count": 0,
      "outputs": []
    },
    {
      "cell_type": "markdown",
      "metadata": {
        "id": "vcWYIrh7OTHF",
        "colab_type": "text"
      },
      "source": [
        "# Load image"
      ]
    },
    {
      "cell_type": "code",
      "metadata": {
        "id": "nh55KGf0OTHG",
        "colab_type": "code",
        "colab": {}
      },
      "source": [
        "imgs = load_LR_HR_imgs_sr('data/flash_no_flash/cave01_00_flash.jpg', -1, 1, enforse_div32='CROP')\n",
        "img_flash = load_LR_HR_imgs_sr('data/flash_no_flash/cave01_00_flash.jpg', -1, 1, enforse_div32='CROP')['HR_pil']\n",
        "img_flash_np = pil_to_np(img_flash)\n",
        "\n",
        "img_noflash = load_LR_HR_imgs_sr('data/flash_no_flash/cave01_01_noflash.jpg', -1, 1, enforse_div32='CROP')['HR_pil']\n",
        "img_noflash_np = pil_to_np(img_noflash)\n",
        "\n",
        "g = plot_image_grid([img_flash_np, img_noflash_np],3,12)"
      ],
      "execution_count": 0,
      "outputs": []
    },
    {
      "cell_type": "markdown",
      "metadata": {
        "id": "rzw71s00OTHL",
        "colab_type": "text"
      },
      "source": [
        "# Setup"
      ]
    },
    {
      "cell_type": "code",
      "metadata": {
        "id": "IMigpPhAOTHM",
        "colab_type": "code",
        "outputId": "9394f1c7-f9c9-4927-aea9-be78c1fe65d3",
        "colab": {
          "base_uri": "https://localhost:8080/",
          "height": 197
        }
      },
      "source": [
        "pad = 'reflection'\n",
        "OPT_OVER = 'net'\n",
        "\n",
        "num_iter = 601\n",
        "LR = 0.1 \n",
        "OPTIMIZER = 'adam'\n",
        "reg_noise_std = 0.0\n",
        "show_every = 50\n",
        "figsize = 6\n",
        "\n",
        "# We will use flash image as input\n",
        "input_depth = 3\n",
        "net_input =np_to_torch(img_flash_np).type(dtype)"
      ],
      "execution_count": 0,
      "outputs": [
        {
          "output_type": "error",
          "ename": "NameError",
          "evalue": "ignored",
          "traceback": [
            "\u001b[0;31m---------------------------------------------------------------------------\u001b[0m",
            "\u001b[0;31mNameError\u001b[0m                                 Traceback (most recent call last)",
            "\u001b[0;32m<ipython-input-2-49e942894186>\u001b[0m in \u001b[0;36m<module>\u001b[0;34m()\u001b[0m\n\u001b[1;32m     11\u001b[0m \u001b[0;31m# We will use flash image as input\u001b[0m\u001b[0;34m\u001b[0m\u001b[0;34m\u001b[0m\u001b[0;34m\u001b[0m\u001b[0m\n\u001b[1;32m     12\u001b[0m \u001b[0minput_depth\u001b[0m \u001b[0;34m=\u001b[0m \u001b[0;36m3\u001b[0m\u001b[0;34m\u001b[0m\u001b[0;34m\u001b[0m\u001b[0m\n\u001b[0;32m---> 13\u001b[0;31m \u001b[0mnet_input\u001b[0m \u001b[0;34m=\u001b[0m\u001b[0mnp_to_torch\u001b[0m\u001b[0;34m(\u001b[0m\u001b[0mimg_flash_np\u001b[0m\u001b[0;34m)\u001b[0m\u001b[0;34m.\u001b[0m\u001b[0mtype\u001b[0m\u001b[0;34m(\u001b[0m\u001b[0mdtype\u001b[0m\u001b[0;34m)\u001b[0m\u001b[0;34m\u001b[0m\u001b[0;34m\u001b[0m\u001b[0m\n\u001b[0m",
            "\u001b[0;31mNameError\u001b[0m: name 'np_to_torch' is not defined"
          ]
        }
      ]
    },
    {
      "cell_type": "code",
      "metadata": {
        "id": "8Cz2ChgxOTHR",
        "colab_type": "code",
        "colab": {}
      },
      "source": [
        "net = skip(input_depth, 3, num_channels_down = [128, 128, 128, 128, 128], \n",
        "                        num_channels_up   = [128, 128, 128, 128, 128],\n",
        "                        num_channels_skip = [4, 4, 4, 4, 4], \n",
        "                        upsample_mode=['nearest', 'nearest', 'bilinear', 'bilinear', 'bilinear'], \n",
        "                        need_sigmoid=True, need_bias=True, pad=pad).type(dtype)\n",
        "\n",
        "mse = torch.nn.MSELoss().type(dtype)\n",
        "\n",
        "img_flash_var = np_to_torch(img_flash_np).type(dtype)\n",
        "img_noflash_var = np_to_torch(img_noflash_np).type(dtype)"
      ],
      "execution_count": 0,
      "outputs": []
    },
    {
      "cell_type": "markdown",
      "metadata": {
        "id": "lrGBj6aIOTHV",
        "colab_type": "text"
      },
      "source": [
        "# Optimize"
      ]
    },
    {
      "cell_type": "code",
      "metadata": {
        "scrolled": false,
        "id": "Gcvw--XLOTHW",
        "colab_type": "code",
        "colab": {}
      },
      "source": [
        "net_input_saved = net_input.detach().clone()\n",
        "noise = net_input.detach().clone()\n",
        "\n",
        "l=[]\n",
        "i = 0\n",
        "def closure():\n",
        "    \n",
        "    global i, net_input,l\n",
        "    \n",
        "    if reg_noise_std > 0:\n",
        "        net_input = net_input_saved + (noise.normal_() * reg_noise_std)\n",
        "    \n",
        "    out = net(net_input)\n",
        "   \n",
        "    total_loss = mse(out, img_noflash_var)\n",
        "    l=np.append(l,total_loss.item())\n",
        "    print(l)\n",
        "    total_loss.backward()\n",
        "        \n",
        "    print ('Iteration %05d    Loss %f' % (i, total_loss.item()), '\\r', end='')\n",
        "    if  PLOT and i % show_every == 0:\n",
        "        out_np = torch_to_np(out)\n",
        "        plot_image_grid([np.clip(out_np, 0, 1)], factor=figsize, nrow=1)\n",
        "        \n",
        "    i += 1\n",
        "\n",
        "    return total_loss\n",
        "\n",
        "p = get_params(OPT_OVER, net, net_input)\n",
        "optimize(OPTIMIZER, p, closure, LR, num_iter)"
      ],
      "execution_count": 0,
      "outputs": []
    },
    {
      "cell_type": "markdown",
      "metadata": {
        "id": "KIn8YGpBOTHc",
        "colab_type": "text"
      },
      "source": [
        "Sometimes the process stucks at reddish image, just run the code from the top one more time. "
      ]
    },
    {
      "cell_type": "code",
      "metadata": {
        "id": "-KzHWCG5OTHe",
        "colab_type": "code",
        "colab": {}
      },
      "source": [
        "out_np = torch_to_np(net(net_input))\n",
        "q = plot_image_grid([np.clip(out_np, 0, 1), img_noflash_np], factor=13);"
      ],
      "execution_count": 0,
      "outputs": []
    },
    {
      "cell_type": "code",
      "metadata": {
        "id": "PVRg3b6KY6Rl",
        "colab_type": "code",
        "colab": {}
      },
      "source": [
        "plt.plot(l)\n",
        "acc=[]\n",
        "acc= 100-(l*1000)\n",
        "plt.legend()\n",
        "plt.show()\n",
        "plt.plot(acc)"
      ],
      "execution_count": 0,
      "outputs": []
    },
    {
      "cell_type": "code",
      "metadata": {
        "id": "x2rRrREQY8pP",
        "colab_type": "code",
        "outputId": "3a3dedfb-5101-4207-abe7-7326a25661ec",
        "colab": {
          "base_uri": "https://localhost:8080/",
          "height": 367
        }
      },
      "source": [
        "import numpy as np\n",
        "import matplotlib.pyplot as plt\n",
        "import caffe\n",
        "import os\n",
        "import skimage.color as color\n",
        "import scipy.ndimage.interpolation as sni\n",
        "\n",
        "%matplotlib inline\n",
        "plt.rcParams['figure.figsize'] = (12, 6)"
      ],
      "execution_count": 0,
      "outputs": [
        {
          "output_type": "error",
          "ename": "ModuleNotFoundError",
          "evalue": "ignored",
          "traceback": [
            "\u001b[0;31m---------------------------------------------------------------------------\u001b[0m",
            "\u001b[0;31mModuleNotFoundError\u001b[0m                       Traceback (most recent call last)",
            "\u001b[0;32m<ipython-input-3-d178bf2f19a7>\u001b[0m in \u001b[0;36m<module>\u001b[0;34m()\u001b[0m\n\u001b[1;32m      1\u001b[0m \u001b[0;32mimport\u001b[0m \u001b[0mnumpy\u001b[0m \u001b[0;32mas\u001b[0m \u001b[0mnp\u001b[0m\u001b[0;34m\u001b[0m\u001b[0;34m\u001b[0m\u001b[0m\n\u001b[1;32m      2\u001b[0m \u001b[0;32mimport\u001b[0m \u001b[0mmatplotlib\u001b[0m\u001b[0;34m.\u001b[0m\u001b[0mpyplot\u001b[0m \u001b[0;32mas\u001b[0m \u001b[0mplt\u001b[0m\u001b[0;34m\u001b[0m\u001b[0;34m\u001b[0m\u001b[0m\n\u001b[0;32m----> 3\u001b[0;31m \u001b[0;32mimport\u001b[0m \u001b[0mcaffe\u001b[0m\u001b[0;34m\u001b[0m\u001b[0;34m\u001b[0m\u001b[0m\n\u001b[0m\u001b[1;32m      4\u001b[0m \u001b[0;32mimport\u001b[0m \u001b[0mos\u001b[0m\u001b[0;34m\u001b[0m\u001b[0;34m\u001b[0m\u001b[0m\n\u001b[1;32m      5\u001b[0m \u001b[0;32mimport\u001b[0m \u001b[0mskimage\u001b[0m\u001b[0;34m.\u001b[0m\u001b[0mcolor\u001b[0m \u001b[0;32mas\u001b[0m \u001b[0mcolor\u001b[0m\u001b[0;34m\u001b[0m\u001b[0;34m\u001b[0m\u001b[0m\n",
            "\u001b[0;31mModuleNotFoundError\u001b[0m: No module named 'caffe'",
            "",
            "\u001b[0;31m---------------------------------------------------------------------------\u001b[0;32m\nNOTE: If your import is failing due to a missing package, you can\nmanually install dependencies using either !pip or !apt.\n\nTo view examples of installing some common dependencies, click the\n\"Open Examples\" button below.\n\u001b[0;31m---------------------------------------------------------------------------\u001b[0m\n"
          ]
        }
      ]
    },
    {
      "cell_type": "code",
      "metadata": {
        "id": "-LjMHO7V_jtU",
        "colab_type": "code",
        "colab": {}
      },
      "source": [
        "!wget -O models/colorization_release_v1.caffemodel http://eecs.berkeley.edu/~rich.zhang/projects/2016_colorization/files/demo_v1/colorization_release_v1.caffemodel"
      ],
      "execution_count": 0,
      "outputs": []
    },
    {
      "cell_type": "code",
      "metadata": {
        "id": "Cd07NWca_lEQ",
        "colab_type": "code",
        "colab": {}
      },
      "source": [
        "gpu_id = 0\n",
        "caffe.set_mode_gpu()\n",
        "caffe.set_device(gpu_id)\n",
        "net = caffe.Net('models/colorization_deploy_v1.prototxt', 'models/colorization_release_v1.caffemodel', caffe.TEST)\n",
        "\n",
        "(H_in,W_in) = net.blobs['data_l'].data.shape[2:] # get input shape\n",
        "(H_out,W_out) = net.blobs['class8_ab'].data.shape[2:] # get output shape\n",
        "net.blobs['Trecip'].data[...] = 6/np.log(10) # 1/T, set annealing temperature\n",
        "    # (We found that we had introduced a factor of log(10). We will update the arXiv shortly.)"
      ],
      "execution_count": 0,
      "outputs": []
    },
    {
      "cell_type": "code",
      "metadata": {
        "id": "_3X6uCbt_qER",
        "colab_type": "code",
        "colab": {}
      },
      "source": [
        "# load the original image\n",
        "import cv2\n",
        "img_rgb = cv2.imread('demo/imgs/ansel_adams3.jpg')\n",
        "img_rgb=img_rgb/255\n",
        "img_lab = color.rgb2lab(img_rgb) # convert image to lab color space\n",
        "img_l = img_lab[:,:,0] # pull out L channel\n",
        "(H_orig,W_orig) = img_rgb.shape[:2] # original image size\n",
        "\n",
        "# create grayscale version of image (just for displaying)\n",
        "img_lab_bw = img_lab.copy()\n",
        "img_lab_bw[:,:,1:] = 0\n",
        "img_rgb_bw = color.lab2rgb(img_lab_bw)\n",
        "\n",
        "# resize image to network input size\n",
        "img_rs = caffe.io.resize_image(img_rgb,(H_in,W_in)) # resize image to network input size\n",
        "img_lab_rs = color.rgb2lab(img_rs)\n",
        "img_l_rs = img_lab_rs[:,:,0]\n",
        "\n",
        "# show original image, along with grayscale input\n",
        "# img_pad = np.ones((H_orig,W_orig/10,3))\n",
        "plt.imshow(np.hstack((img_rgb,  img_rgb_bw)))\n",
        "plt.axis('off');"
      ],
      "execution_count": 0,
      "outputs": []
    },
    {
      "cell_type": "code",
      "metadata": {
        "id": "bnfcvpKmAKmo",
        "colab_type": "code",
        "colab": {}
      },
      "source": [
        ""
      ],
      "execution_count": 0,
      "outputs": []
    }
  ]
}